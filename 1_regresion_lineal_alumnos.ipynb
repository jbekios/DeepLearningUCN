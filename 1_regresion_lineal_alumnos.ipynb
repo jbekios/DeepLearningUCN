{
  "nbformat": 4,
  "nbformat_minor": 0,
  "metadata": {
    "colab": {
      "name": "1_regresion_lineal_alumnos.ipynb",
      "provenance": [],
      "collapsed_sections": []
    },
    "kernelspec": {
      "name": "python3",
      "display_name": "Python 3"
    },
    "accelerator": "GPU"
  },
  "cells": [
    {
      "cell_type": "markdown",
      "metadata": {
        "id": "7vCDOgrxA6qM"
      },
      "source": [
        "# Laboratorio 01: Regresión Lineal\n",
        "\n",
        "Objetivo:\n",
        "\n",
        "1.   Introducción a tensores.\n",
        "2.   Implementar el algoritmo de regresión lineal utilizando Python.\n",
        "3.   Implementar el algoritmo de regresión lineal utilizando las librerías Torch.\n",
        "4. Implementar el algoritmo de regresión lineal utilizando Torch.\n",
        "\n",
        "## 1. Introducción a tensores\n",
        "\n",
        "Un tensor PyTorch es básicamente lo mismo que una matriz numpy: no sabe nada sobre aprendizaje profundo o gráficos computacionales o gradientes, y es solo una matriz genérica n-dimensional que se utilizará para el cálculo numérico arbitrario.\n",
        "\n",
        "### 1.1 Crear un tensor"
      ]
    },
    {
      "cell_type": "code",
      "metadata": {
        "id": "qhnsCfzJLhps"
      },
      "source": [
        ""
      ],
      "execution_count": null,
      "outputs": []
    },
    {
      "cell_type": "code",
      "metadata": {
        "id": "L3xMn8t0lQVI"
      },
      "source": [
        ""
      ],
      "execution_count": null,
      "outputs": []
    },
    {
      "cell_type": "markdown",
      "metadata": {
        "id": "J4soV960lSz6"
      },
      "source": [
        "### 1.2 Estructura de un tensor\n",
        "\n",
        "El método *size()* permite ver el tamaño de un tensor, su rango y las dimensiones."
      ]
    },
    {
      "cell_type": "code",
      "metadata": {
        "id": "dTrpLENDlhit"
      },
      "source": [
        ""
      ],
      "execution_count": null,
      "outputs": []
    },
    {
      "cell_type": "markdown",
      "metadata": {
        "id": "pg7kWWExl2n6"
      },
      "source": [
        "### 1.3 Acceso a un tensor\n",
        "\n",
        "Los elementos de un tensor pueden ser accesados de la misma manera que en **numpy** (librerías de matrices de Python)."
      ]
    },
    {
      "cell_type": "code",
      "metadata": {
        "id": "YxgQRPPMmOOj"
      },
      "source": [
        ""
      ],
      "execution_count": null,
      "outputs": []
    },
    {
      "cell_type": "markdown",
      "metadata": {
        "id": "6Dm5Doa8mQ0a"
      },
      "source": [
        "### 1.4 Uso de tensores con CUDA (GPU)\n",
        "\n",
        "Pytorch permite trabajar con CUDA para realizar operaciones matemáticas en GPU (Si se cuenta con una)."
      ]
    },
    {
      "cell_type": "code",
      "metadata": {
        "id": "Baa-vuX3mqyl"
      },
      "source": [
        ""
      ],
      "execution_count": null,
      "outputs": []
    },
    {
      "cell_type": "markdown",
      "metadata": {
        "id": "NbUSGAx6m1uP"
      },
      "source": [
        "### 1.5 CPU vs GPU"
      ]
    },
    {
      "cell_type": "code",
      "metadata": {
        "id": "NU2tgIg2m9ry"
      },
      "source": [
        ""
      ],
      "execution_count": null,
      "outputs": []
    },
    {
      "cell_type": "code",
      "metadata": {
        "id": "31KV490LnFd8"
      },
      "source": [
        ""
      ],
      "execution_count": null,
      "outputs": []
    },
    {
      "cell_type": "markdown",
      "metadata": {
        "id": "gt4a3AjEkPrY"
      },
      "source": [
        "## 2. Regresión lineal (I):\n",
        "\n",
        "Se realiza el cálculo de la regresión lineal por medio del cálculo manual de los gradientes (derivada de la función de pérdida)."
      ]
    },
    {
      "cell_type": "code",
      "metadata": {
        "id": "50Z3BUVpA2sy"
      },
      "source": [
        ""
      ],
      "execution_count": null,
      "outputs": []
    },
    {
      "cell_type": "markdown",
      "metadata": {
        "id": "1UkSZO4NEF_O"
      },
      "source": [
        "## 3. Regresión lineal (II):\n",
        "\n",
        "En este caso se realiza el cálculo de los parámetros de la regresión lineal por medio del cálculo manual de los gradientes (derivada de la función de pérdida)."
      ]
    },
    {
      "cell_type": "code",
      "metadata": {
        "id": "9kjA_xKcEVS4"
      },
      "source": [
        "\n"
      ],
      "execution_count": null,
      "outputs": []
    },
    {
      "cell_type": "markdown",
      "metadata": {
        "id": "JybHBi59hvL3"
      },
      "source": [
        "## 4. Regresión lineal (III):\n",
        "\n",
        "Cálculo de los parámetros de la regresión lineal utilizando Pytorch (derivada de la función de pérdida)."
      ]
    },
    {
      "cell_type": "code",
      "metadata": {
        "id": "o0ApQnGuhoZW"
      },
      "source": [
        ""
      ],
      "execution_count": null,
      "outputs": []
    },
    {
      "cell_type": "code",
      "metadata": {
        "id": "8QVMeHhu2vjM"
      },
      "source": [
        ""
      ],
      "execution_count": null,
      "outputs": []
    },
    {
      "cell_type": "code",
      "metadata": {
        "id": "Fuj6P0v-7BX6"
      },
      "source": [
        ""
      ],
      "execution_count": null,
      "outputs": []
    },
    {
      "cell_type": "code",
      "metadata": {
        "id": "SyttTfRd7BMR"
      },
      "source": [
        ""
      ],
      "execution_count": null,
      "outputs": []
    },
    {
      "cell_type": "code",
      "metadata": {
        "id": "c3bQfMyZ7AvQ"
      },
      "source": [
        ""
      ],
      "execution_count": null,
      "outputs": []
    }
  ]
}